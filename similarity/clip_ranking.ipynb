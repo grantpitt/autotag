{
 "cells": [
  {
   "cell_type": "code",
   "execution_count": 87,
   "metadata": {},
   "outputs": [],
   "source": [
    "import pandas as pd\n",
    "from html import unescape\n",
    "import json\n",
    "import numpy as np\n",
    "from tqdm.notebook import tqdm"
   ]
  },
  {
   "cell_type": "code",
   "execution_count": 88,
   "metadata": {},
   "outputs": [],
   "source": [
    "true_tags = pd.read_csv(\"true-tags.csv\")\n",
    "true_tags[\"user_list\"] = true_tags[\"User Tags\"].apply(lambda r: r.split(\";\") if isinstance(r, str) else [])\n",
    "true_tags[\"signage_list\"] = true_tags[\"Signage Tags\"].apply(lambda r: r.split(\";\") if isinstance(r, str) else [])\n",
    "# true_tags.head(5)"
   ]
  },
  {
   "cell_type": "code",
   "execution_count": 89,
   "metadata": {},
   "outputs": [],
   "source": [
    "with open(\"k-steps.json\") as f:\n",
    "    k_steps = json.load(f)"
   ]
  },
  {
   "cell_type": "code",
   "execution_count": 90,
   "metadata": {},
   "outputs": [
    {
     "data": {
      "text/plain": [
       "dict_keys(['500', '675', '850', '1025', '1200'])"
      ]
     },
     "execution_count": 90,
     "metadata": {},
     "output_type": "execute_result"
    }
   ],
   "source": [
    "k_steps.keys()"
   ]
  },
  {
   "cell_type": "code",
   "execution_count": 103,
   "metadata": {},
   "outputs": [],
   "source": [
    "chosen_step = k_steps[\"850\"]"
   ]
  },
  {
   "cell_type": "code",
   "execution_count": 104,
   "metadata": {},
   "outputs": [
    {
     "data": {
      "text/plain": [
       "['growth and development organization', 'growth and development organisation']"
      ]
     },
     "execution_count": 104,
     "metadata": {},
     "output_type": "execute_result"
    }
   ],
   "source": [
    "cluster_1 = chosen_step[0]\n",
    "cluster_1"
   ]
  },
  {
   "cell_type": "code",
   "execution_count": 105,
   "metadata": {},
   "outputs": [
    {
     "data": {
      "text/plain": [
       "7"
      ]
     },
     "execution_count": 105,
     "metadata": {},
     "output_type": "execute_result"
    }
   ],
   "source": [
    "filtered_ids = list(true_tags[true_tags[\"user_list\"].apply(lambda r: len(set(r) & set(cluster_1)) > 0)][\"Image Id\"])\n",
    "len(filtered_ids)"
   ]
  },
  {
   "cell_type": "code",
   "execution_count": 106,
   "metadata": {},
   "outputs": [
    {
     "data": {
      "text/plain": [
       "3489"
      ]
     },
     "execution_count": 106,
     "metadata": {},
     "output_type": "execute_result"
    }
   ],
   "source": [
    "first_filtered_id = filtered_ids[0]\n",
    "first_filtered_id"
   ]
  },
  {
   "cell_type": "code",
   "execution_count": 107,
   "metadata": {},
   "outputs": [],
   "source": [
    "if \"clip_probs\" not in globals():\n",
    "    with open(\"clip_probs_6dec.json\") as f:\n",
    "        clip_probs = json.load(f)"
   ]
  },
  {
   "cell_type": "code",
   "execution_count": 108,
   "metadata": {},
   "outputs": [],
   "source": [
    "if \"user_tags\" not in globals():\n",
    "    with open(\"../user_tags_set.json\") as f:\n",
    "        user_tags = np.array(json.load(f))\n",
    "user_tags_dict = {t: i for i, t in enumerate(user_tags)}"
   ]
  },
  {
   "cell_type": "code",
   "execution_count": 109,
   "metadata": {},
   "outputs": [
    {
     "data": {
      "text/plain": [
       "534"
      ]
     },
     "execution_count": 109,
     "metadata": {},
     "output_type": "execute_result"
    }
   ],
   "source": [
    "user_tags_dict[\"sales and marketing\"]"
   ]
  },
  {
   "cell_type": "code",
   "execution_count": 110,
   "metadata": {},
   "outputs": [
    {
     "data": {
      "text/plain": [
       "{'growth and development organization': 0.000104,\n",
       " 'growth and development organisation': 0.000216}"
      ]
     },
     "execution_count": 110,
     "metadata": {},
     "output_type": "execute_result"
    }
   ],
   "source": [
    "probabilities = {key: clip_probs[str(first_filtered_id)][\"user\"][user_tags_dict[key]] for key in cluster_1}\n",
    "probabilities"
   ]
  },
  {
   "cell_type": "code",
   "execution_count": 111,
   "metadata": {},
   "outputs": [],
   "source": [
    "from collections import defaultdict\n",
    "# TODO: Remove this from notebook\n",
    "running_sums = defaultdict(int)\n",
    "for id in filtered_ids:\n",
    "    probabilities = {key: clip_probs[str(id)][\"user\"][user_tags_dict[key]] for key in cluster_1}\n",
    "    for key, value in probabilities.items():\n",
    "        running_sums[key] += value\n",
    "for key, value in running_sums.items():\n",
    "    running_sums[key] /= len(filtered_ids)"
   ]
  },
  {
   "cell_type": "code",
   "execution_count": 112,
   "metadata": {},
   "outputs": [
    {
     "data": {
      "text/plain": [
       "defaultdict(int,\n",
       "            {'growth and development organization': 0.0009952857142857144,\n",
       "             'growth and development organisation': 0.0008651428571428571})"
      ]
     },
     "execution_count": 112,
     "metadata": {},
     "output_type": "execute_result"
    }
   ],
   "source": [
    "running_sums"
   ]
  },
  {
   "cell_type": "code",
   "execution_count": 139,
   "metadata": {},
   "outputs": [],
   "source": [
    "# Now do the same thing for each cluster\n",
    "\n",
    "def top_probs_for_clusters(clusters):\n",
    "    cluster_sums = []\n",
    "    for cluster in tqdm(clusters):\n",
    "        running_sums = defaultdict(int)\n",
    "        filtered_ids = list(true_tags[true_tags[\"user_list\"].apply(lambda r: len(set(r) & set(cluster)) > 0)][\"Image Id\"])\n",
    "        for id in filtered_ids:\n",
    "            probabilities = {key: clip_probs[str(id)][\"user\"][user_tags_dict[key]] for key in cluster}\n",
    "            for key, value in probabilities.items():\n",
    "                running_sums[key] += value\n",
    "        for key, value in running_sums.items():\n",
    "            running_sums[key] /= len(filtered_ids)\n",
    "            running_sums[key] = round(running_sums[key], 4)\n",
    "        # Sort running sums\n",
    "        running_sums = dict(sorted(running_sums.items(), key=lambda x: x[1], reverse=True))\n",
    "        cluster_sums.append(running_sums)\n",
    "    return cluster_sums"
   ]
  },
  {
   "cell_type": "code",
   "execution_count": 140,
   "metadata": {},
   "outputs": [
    {
     "data": {
      "application/vnd.jupyter.widget-view+json": {
       "model_id": "2e840ae4fc8f4d818f37500ad5b6f898",
       "version_major": 2,
       "version_minor": 0
      },
      "text/plain": [
       "  0%|          | 0/5 [00:00<?, ?it/s]"
      ]
     },
     "metadata": {},
     "output_type": "display_data"
    },
    {
     "data": {
      "application/vnd.jupyter.widget-view+json": {
       "model_id": "69ab2e7d86074bf1b0307571417e9110",
       "version_major": 2,
       "version_minor": 0
      },
      "text/plain": [
       "  0%|          | 0/396 [00:00<?, ?it/s]"
      ]
     },
     "metadata": {},
     "output_type": "display_data"
    },
    {
     "data": {
      "application/vnd.jupyter.widget-view+json": {
       "model_id": "babc13c2ab274c7ea0323014c572e336",
       "version_major": 2,
       "version_minor": 0
      },
      "text/plain": [
       "  0%|          | 0/427 [00:00<?, ?it/s]"
      ]
     },
     "metadata": {},
     "output_type": "display_data"
    },
    {
     "data": {
      "application/vnd.jupyter.widget-view+json": {
       "model_id": "7615990c27a448bc9015530cdeefb7cf",
       "version_major": 2,
       "version_minor": 0
      },
      "text/plain": [
       "  0%|          | 0/409 [00:00<?, ?it/s]"
      ]
     },
     "metadata": {},
     "output_type": "display_data"
    },
    {
     "data": {
      "application/vnd.jupyter.widget-view+json": {
       "model_id": "de38543aa7704c6ab6ec05ab6a69495e",
       "version_major": 2,
       "version_minor": 0
      },
      "text/plain": [
       "  0%|          | 0/372 [00:00<?, ?it/s]"
      ]
     },
     "metadata": {},
     "output_type": "display_data"
    },
    {
     "data": {
      "application/vnd.jupyter.widget-view+json": {
       "model_id": "6ad0ca8774f34031a8ce5302b163a0f1",
       "version_major": 2,
       "version_minor": 0
      },
      "text/plain": [
       "  0%|          | 0/319 [00:00<?, ?it/s]"
      ]
     },
     "metadata": {},
     "output_type": "display_data"
    }
   ],
   "source": [
    "k_top_probs = {\n",
    "    k: top_probs_for_clusters(clusters) for k, clusters in tqdm(k_steps.items())\n",
    "}\n"
   ]
  },
  {
   "cell_type": "code",
   "execution_count": 144,
   "metadata": {},
   "outputs": [
    {
     "data": {
      "text/plain": [
       "[{'electronics manufacture': 0.0099,\n",
       "  'electronics services': 0.0079,\n",
       "  'semiconductor': 0.0039,\n",
       "  'electronics': 0.0033},\n",
       " {'parking management': 0.0162,\n",
       "  'parking': 0.0151,\n",
       "  'parking lot': 0.0065,\n",
       "  'park': 0.0035,\n",
       "  'no parking': 0.0025},\n",
       " {'athletics': 0.0041,\n",
       "  'sports': 0.0036,\n",
       "  'community sports': 0.0029,\n",
       "  'basketball': 0.0019,\n",
       "  'tennis.': 0.0019,\n",
       "  'athletes': 0.0018},\n",
       " {'club': 0.0135,\n",
       "  'tennis club': 0.0104,\n",
       "  'football club': 0.0101,\n",
       "  'country club': 0.0046,\n",
       "  'garden club': 0.0043,\n",
       "  'wine club': 0.0035},\n",
       " {'church event': 0.0272,\n",
       "  'non-denominational church': 0.0067,\n",
       "  'church office': 0.0058,\n",
       "  'church planning': 0.003,\n",
       "  'church property': 0.0029,\n",
       "  'church': 0.0021}]"
      ]
     },
     "execution_count": 144,
     "metadata": {},
     "output_type": "execute_result"
    }
   ],
   "source": [
    "k_top_probs[\"1200\"][-5:]"
   ]
  },
  {
   "cell_type": "code",
   "execution_count": 142,
   "metadata": {},
   "outputs": [],
   "source": [
    "with open(\"k-top-probs.json\", \"w\") as f:\n",
    "    json.dump(k_top_probs, f)"
   ]
  },
  {
   "cell_type": "code",
   "execution_count": null,
   "metadata": {},
   "outputs": [],
   "source": []
  }
 ],
 "metadata": {
  "kernelspec": {
   "display_name": "Python 3.10.2 64-bit",
   "language": "python",
   "name": "python3"
  },
  "language_info": {
   "codemirror_mode": {
    "name": "ipython",
    "version": 3
   },
   "file_extension": ".py",
   "mimetype": "text/x-python",
   "name": "python",
   "nbconvert_exporter": "python",
   "pygments_lexer": "ipython3",
   "version": "3.10.2"
  },
  "orig_nbformat": 4,
  "vscode": {
   "interpreter": {
    "hash": "aee8b7b246df8f9039afb4144a1f6fd8d2ca17a180786b69acc140d282b71a49"
   }
  }
 },
 "nbformat": 4,
 "nbformat_minor": 2
}
