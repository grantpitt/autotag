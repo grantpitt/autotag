{
 "cells": [
  {
   "cell_type": "code",
   "execution_count": 43,
   "metadata": {},
   "outputs": [],
   "source": [
    "# import sys\n",
    "# !{sys.executable} -mpip install sentence-transformers sklearn"
   ]
  },
  {
   "cell_type": "code",
   "execution_count": 44,
   "metadata": {},
   "outputs": [],
   "source": [
    "from sentence_transformers import SentenceTransformer\n",
    "import numpy as np\n",
    "import json"
   ]
  },
  {
   "cell_type": "code",
   "execution_count": 45,
   "metadata": {},
   "outputs": [],
   "source": [
    "model = SentenceTransformer('sentence-transformers/all-MiniLM-L12-v2')"
   ]
  },
  {
   "cell_type": "code",
   "execution_count": 46,
   "metadata": {},
   "outputs": [],
   "source": [
    "# Import user_tags_set.json\n",
    "with open('../user_tags_set.json') as f:\n",
    "    user_tags_set = np.array(json.load(f))"
   ]
  },
  {
   "cell_type": "code",
   "execution_count": 48,
   "metadata": {},
   "outputs": [],
   "source": [
    "embeddings = model.encode(user_tags_set, device=\"cpu\")"
   ]
  },
  {
   "cell_type": "code",
   "execution_count": 49,
   "metadata": {},
   "outputs": [],
   "source": [
    "STEPS = np.linspace(500, 1200, 5)"
   ]
  },
  {
   "cell_type": "code",
   "execution_count": 50,
   "metadata": {},
   "outputs": [],
   "source": [
    "from collections import defaultdict\n",
    "from sklearn.cluster import KMeans\n",
    "\n",
    "\n",
    "def predict_with_k(k):\n",
    "    kmeans = KMeans(n_clusters=k).fit(embeddings)\n",
    "    pred_clusters = kmeans.predict(embeddings)\n",
    "    centroids = kmeans.cluster_centers_\n",
    "    cluster_items = defaultdict(list)\n",
    "    mse = np.zeros(k)\n",
    "\n",
    "    for i, cluster_index in enumerate(pred_clusters):\n",
    "        cluster_items[int(cluster_index)].append(user_tags_set[i])\n",
    "        mse[cluster_index] += (\n",
    "            np.linalg.norm(embeddings[i] - centroids[cluster_index])\n",
    "        ) ** 2\n",
    "\n",
    "    for i, cluster in enumerate(cluster_items.values()):\n",
    "        mse[i] /= len(cluster)\n",
    "\n",
    "    sorted_mse_indices = np.argsort(mse)\n",
    "\n",
    "    return [cluster_items[i] for i in sorted_mse_indices if len(cluster_items[i]) > 1]\n"
   ]
  },
  {
   "cell_type": "code",
   "execution_count": 51,
   "metadata": {},
   "outputs": [
    {
     "data": {
      "application/vnd.jupyter.widget-view+json": {
       "model_id": "0d8d4195f6144bb6b62684421c1322cd",
       "version_major": 2,
       "version_minor": 0
      },
      "text/plain": [
       "  0%|          | 0/5 [00:00<?, ?it/s]"
      ]
     },
     "metadata": {},
     "output_type": "display_data"
    },
    {
     "data": {
      "text/plain": [
       "dict_keys([500, 675, 850, 1025, 1200])"
      ]
     },
     "execution_count": 51,
     "metadata": {},
     "output_type": "execute_result"
    }
   ],
   "source": [
    "from tqdm.notebook import tqdm\n",
    "k_steps = {k: predict_with_k(k) for k in tqdm(STEPS.astype(int).tolist())}\n",
    "k_steps.keys()"
   ]
  },
  {
   "cell_type": "code",
   "execution_count": 52,
   "metadata": {},
   "outputs": [],
   "source": [
    "with open(\"k-steps.json\", \"w\") as f:\n",
    "    json.dump(k_steps, f)"
   ]
  },
  {
   "cell_type": "code",
   "execution_count": null,
   "metadata": {},
   "outputs": [],
   "source": []
  }
 ],
 "metadata": {
  "kernelspec": {
   "display_name": "Python 3.10.4 ('venv': venv)",
   "language": "python",
   "name": "python3"
  },
  "language_info": {
   "codemirror_mode": {
    "name": "ipython",
    "version": 3
   },
   "file_extension": ".py",
   "mimetype": "text/x-python",
   "name": "python",
   "nbconvert_exporter": "python",
   "pygments_lexer": "ipython3",
   "version": "3.10.4"
  },
  "orig_nbformat": 4,
  "vscode": {
   "interpreter": {
    "hash": "6f5f28e6a9f9a3e2fd91f7c37e7471dbfc6e579743c48b7c8c307c3f0986711f"
   }
  }
 },
 "nbformat": 4,
 "nbformat_minor": 2
}
